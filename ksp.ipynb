{
 "cells": [
  {
   "attachments": {},
   "cell_type": "markdown",
   "metadata": {},
   "source": [
    "## Text"
   ]
  },
  {
   "cell_type": "code",
   "execution_count": null,
   "metadata": {},
   "outputs": [],
   "source": [
    "# formátování řetězců\n",
    "n = 35\n",
    "x = 100 / 17\n",
    "print(\"n = \" + str(n) + \", x = \" + str(x))\n",
    "print(f\"n = {n}, x = {x}\")\n",
    "print(f\"n = {n:03}, x = {x:.2f}\")"
   ]
  },
  {
   "cell_type": "code",
   "execution_count": null,
   "metadata": {},
   "outputs": [],
   "source": [
    "# dělení a spojování\n",
    "s = \"Korespondenční seminář z programování\"\n",
    "splits = s.split()\n",
    "print(splits)\n",
    "print(\"-\".join(splits))"
   ]
  },
  {
   "cell_type": "code",
   "execution_count": null,
   "metadata": {},
   "outputs": [],
   "source": [
    "# slicing\n",
    "s = \"nadstandardní\"\n",
    "print(s[1])\n",
    "print(s[-1])\n",
    "print(s[2:])\n",
    "print(s[:2])\n",
    "print(s[2:5])\n",
    "\n",
    "# totéž se seznamy\n",
    "l = [0, 10, 20, 30, 40, 50, 60, 70, 80, 90]\n",
    "print(l[2:5])"
   ]
  },
  {
   "cell_type": "code",
   "execution_count": null,
   "metadata": {},
   "outputs": [],
   "source": [
    "# čtení argumentů z příkazové řádky\n",
    "# ! nefunguje v Jupyteru\n",
    "import sys\n",
    "\n",
    "# jméno programu\n",
    "print(sys.argv[0])\n",
    "\n",
    "args_sum = 0\n",
    "for arg in sys.argv[1:]:\n",
    "    args_sum += int(arg)\n",
    "print(args_sum)"
   ]
  },
  {
   "cell_type": "code",
   "execution_count": null,
   "metadata": {},
   "outputs": [],
   "source": [
    "# práce se soubory\n",
    "with open(\"in.txt\") as f:\n",
    "    line = f.readline()\n",
    "    # line = line.rstrip()\n",
    "    print(line)\n",
    "    print(len(line))"
   ]
  },
  {
   "cell_type": "code",
   "execution_count": null,
   "metadata": {},
   "outputs": [],
   "source": [
    "# čtení celého souboru\n",
    "with open(\"in.txt\") as f:\n",
    "    for line in f:\n",
    "        line = line.rstrip()\n",
    "        print(line)"
   ]
  },
  {
   "cell_type": "code",
   "execution_count": null,
   "metadata": {},
   "outputs": [],
   "source": [
    "# zapisování do souboru\n",
    "with open(\"out.txt\", \"w\") as f:\n",
    "    f.write(\"Hello world!\")"
   ]
  },
  {
   "attachments": {},
   "cell_type": "markdown",
   "metadata": {},
   "source": [
    "## Iterování"
   ]
  },
  {
   "cell_type": "code",
   "execution_count": null,
   "metadata": {},
   "outputs": [],
   "source": [
    "N = 3\n",
    "# normální iterace\n",
    "for i in range(N):\n",
    "    print(i)\n",
    "\n",
    "# chceme iterovat v opačném pořadí\n",
    "\n",
    "# funkční, ale nečitelné\n",
    "for i in range(N-1, -1, -1):\n",
    "    print(i)\n",
    "\n",
    "# výrazně jednodušší\n",
    "for i in reversed(range(N)):\n",
    "    print(i)"
   ]
  },
  {
   "cell_type": "code",
   "execution_count": null,
   "metadata": {},
   "outputs": [],
   "source": [
    "# k jednomu vektoru přičítáme druhý\n",
    "\n",
    "vec_x = [1, 2, 3]\n",
    "vec_y = [10, 6, 4]\n",
    "\n",
    "# přístup 1: iterace přes indexy\n",
    "for i in range(len(vec_x)):\n",
    "    vec_x[i] += vec_y[i]\n",
    "\n",
    "# přístup 2: pomocí enumerate, rovnou dostaneme hodnoty z vec_y\n",
    "for i, y in enumerate(vec_y):\n",
    "    vec_x[i] += y"
   ]
  },
  {
   "cell_type": "code",
   "execution_count": null,
   "metadata": {},
   "outputs": [],
   "source": [
    "# konverze celého pole\n",
    "nums = [int(x) for x in input().split()]\n",
    "print(sum(nums))"
   ]
  },
  {
   "cell_type": "code",
   "execution_count": null,
   "metadata": {},
   "outputs": [],
   "source": [
    "# inicializace tabulky 3x3\n",
    "\n",
    "# nefunkční: kopírování\n",
    "# zkopíruje se pouze reference, takže změna se projeví ve všech řádcích\n",
    "table = [[0, 0, 0]] * 3\n",
    "table[0][0] = 1\n",
    "print(table)\n",
    "\n",
    "# funkční: pokaždé se vytvoří nový seznam\n",
    "table = [[0, 0, 0] for _ in range(3)]"
   ]
  },
  {
   "attachments": {},
   "cell_type": "markdown",
   "metadata": {},
   "source": [
    "## Pod pokličkou"
   ]
  },
  {
   "cell_type": "code",
   "execution_count": null,
   "metadata": {},
   "outputs": [],
   "source": [
    "# reference\n",
    "var_1 = 2\n",
    "var_2 = var_1\n",
    "var_2 = 20\n",
    "print(var_1)\n",
    "print(var_2)\n",
    "\n",
    "array_1 = [2, 3]\n",
    "array_2 = array_1\n",
    "array_2[0] = 20\n",
    "print(array_1)\n",
    "print(array_2)"
   ]
  },
  {
   "cell_type": "code",
   "execution_count": null,
   "metadata": {},
   "outputs": [],
   "source": [
    "# počet bytů, které proměnná celkem zabírá\n",
    "sys.getsizeof(var_1)"
   ]
  },
  {
   "attachments": {},
   "cell_type": "markdown",
   "metadata": {},
   "source": [
    "- číslo samotné: 4 B\n",
    "- délka zápisu: 4 B\n",
    "- adresa v paměti: 8 B\n",
    "- počet referencí: 4 B\n",
    "- typ: 4 B\n",
    "- flags: 4 B\n"
   ]
  },
  {
   "attachments": {},
   "cell_type": "markdown",
   "metadata": {},
   "source": [
    "### Vykonávání\n",
    "\n",
    "- zdrojový kód se přeloží do _bytekódu_\n",
    "    - jednoduché instrukce\n",
    "- `CPython` interpretuje\n",
    "- `PyPy` umí překládat bytekód do strojového kódu"
   ]
  },
  {
   "attachments": {},
   "cell_type": "markdown",
   "metadata": {},
   "source": [
    "## Balíčky\n",
    "\n",
    "```sh\n",
    "python -m venv venv\n",
    "source venv/bin/activate # Linux\n",
    "venv\\Scripts\\activate # Windows\n",
    "pip install requests\n",
    "```"
   ]
  },
  {
   "cell_type": "code",
   "execution_count": null,
   "metadata": {},
   "outputs": [],
   "source": [
    "import requests\n",
    "\n",
    "url = \"https://ksp.mff.cuni.cz/\"\n",
    "page = requests.get(url)\n",
    "print(page.text)"
   ]
  }
 ],
 "metadata": {
  "kernelspec": {
   "display_name": "Python 3",
   "language": "python",
   "name": "python3"
  },
  "language_info": {
   "codemirror_mode": {
    "name": "ipython",
    "version": 3
   },
   "file_extension": ".py",
   "mimetype": "text/x-python",
   "name": "python",
   "nbconvert_exporter": "python",
   "pygments_lexer": "ipython3",
   "version": "3.8.10"
  },
  "orig_nbformat": 4,
  "vscode": {
   "interpreter": {
    "hash": "31f2aee4e71d21fbe5cf8b01ff0e069b9275f58929596ceb00d14d90e3e16cd6"
   }
  }
 },
 "nbformat": 4,
 "nbformat_minor": 2
}
